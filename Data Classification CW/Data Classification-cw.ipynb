{
 "cells": [
  {
   "cell_type": "code",
   "execution_count": 3,
   "metadata": {},
   "outputs": [],
   "source": [
    "import pandas as pd\n",
    "\"\"\"load the testing and training data set using pandas\"\"\"\n",
    "testing_data = pd.read_csv('C:/Users/Arbaaz/Desktop/Data Classification CW/testingSet-1.csv')\n",
    "                           \n",
    "training_data = pd.read_csv('C:/Users/Arbaaz/Desktop/Data Classification CW/trainingSet-1.csv')"
   ]
  },
  {
   "cell_type": "code",
   "execution_count": 4,
   "metadata": {},
   "outputs": [
    {
     "data": {
      "text/html": [
       "<div>\n",
       "<style scoped>\n",
       "    .dataframe tbody tr th:only-of-type {\n",
       "        vertical-align: middle;\n",
       "    }\n",
       "\n",
       "    .dataframe tbody tr th {\n",
       "        vertical-align: top;\n",
       "    }\n",
       "\n",
       "    .dataframe thead th {\n",
       "        text-align: right;\n",
       "    }\n",
       "</style>\n",
       "<table border=\"1\" class=\"dataframe\">\n",
       "  <thead>\n",
       "    <tr style=\"text-align: right;\">\n",
       "      <th></th>\n",
       "      <th>LOC_BLANK</th>\n",
       "      <th>BRANCH_COUNT</th>\n",
       "      <th>LOC_CODE_AND_COMMENT</th>\n",
       "      <th>LOC_COMMENTS</th>\n",
       "      <th>CYCLOMATIC_COMPLEXITY</th>\n",
       "      <th>DESIGN_COMPLEXITY</th>\n",
       "      <th>ESSENTIAL_COMPLEXITY</th>\n",
       "      <th>LOC_EXECUTABLE</th>\n",
       "      <th>NUM_OPERANDS</th>\n",
       "      <th>NUM_OPERATORS</th>\n",
       "      <th>NUM_UNIQUE_OPERANDS</th>\n",
       "      <th>NUM_UNIQUE_OPERATORS</th>\n",
       "      <th>LOC_TOTAL</th>\n",
       "      <th>DEFECTIVE</th>\n",
       "    </tr>\n",
       "  </thead>\n",
       "  <tbody>\n",
       "    <tr>\n",
       "      <th>0</th>\n",
       "      <td>1</td>\n",
       "      <td>5</td>\n",
       "      <td>0</td>\n",
       "      <td>1</td>\n",
       "      <td>3</td>\n",
       "      <td>2</td>\n",
       "      <td>1</td>\n",
       "      <td>18</td>\n",
       "      <td>30</td>\n",
       "      <td>50</td>\n",
       "      <td>13</td>\n",
       "      <td>12</td>\n",
       "      <td>24</td>\n",
       "      <td>1</td>\n",
       "    </tr>\n",
       "    <tr>\n",
       "      <th>1</th>\n",
       "      <td>0</td>\n",
       "      <td>1</td>\n",
       "      <td>0</td>\n",
       "      <td>0</td>\n",
       "      <td>1</td>\n",
       "      <td>1</td>\n",
       "      <td>1</td>\n",
       "      <td>10</td>\n",
       "      <td>10</td>\n",
       "      <td>12</td>\n",
       "      <td>10</td>\n",
       "      <td>6</td>\n",
       "      <td>16</td>\n",
       "      <td>-1</td>\n",
       "    </tr>\n",
       "    <tr>\n",
       "      <th>2</th>\n",
       "      <td>0</td>\n",
       "      <td>7</td>\n",
       "      <td>0</td>\n",
       "      <td>0</td>\n",
       "      <td>4</td>\n",
       "      <td>4</td>\n",
       "      <td>1</td>\n",
       "      <td>21</td>\n",
       "      <td>30</td>\n",
       "      <td>46</td>\n",
       "      <td>19</td>\n",
       "      <td>11</td>\n",
       "      <td>25</td>\n",
       "      <td>1</td>\n",
       "    </tr>\n",
       "    <tr>\n",
       "      <th>3</th>\n",
       "      <td>0</td>\n",
       "      <td>1</td>\n",
       "      <td>0</td>\n",
       "      <td>0</td>\n",
       "      <td>1</td>\n",
       "      <td>1</td>\n",
       "      <td>1</td>\n",
       "      <td>2</td>\n",
       "      <td>4</td>\n",
       "      <td>3</td>\n",
       "      <td>4</td>\n",
       "      <td>2</td>\n",
       "      <td>5</td>\n",
       "      <td>-1</td>\n",
       "    </tr>\n",
       "    <tr>\n",
       "      <th>4</th>\n",
       "      <td>0</td>\n",
       "      <td>1</td>\n",
       "      <td>0</td>\n",
       "      <td>0</td>\n",
       "      <td>1</td>\n",
       "      <td>1</td>\n",
       "      <td>1</td>\n",
       "      <td>4</td>\n",
       "      <td>4</td>\n",
       "      <td>7</td>\n",
       "      <td>3</td>\n",
       "      <td>6</td>\n",
       "      <td>6</td>\n",
       "      <td>-1</td>\n",
       "    </tr>\n",
       "    <tr>\n",
       "      <th>...</th>\n",
       "      <td>...</td>\n",
       "      <td>...</td>\n",
       "      <td>...</td>\n",
       "      <td>...</td>\n",
       "      <td>...</td>\n",
       "      <td>...</td>\n",
       "      <td>...</td>\n",
       "      <td>...</td>\n",
       "      <td>...</td>\n",
       "      <td>...</td>\n",
       "      <td>...</td>\n",
       "      <td>...</td>\n",
       "      <td>...</td>\n",
       "      <td>...</td>\n",
       "    </tr>\n",
       "    <tr>\n",
       "      <th>95</th>\n",
       "      <td>0</td>\n",
       "      <td>3</td>\n",
       "      <td>0</td>\n",
       "      <td>0</td>\n",
       "      <td>2</td>\n",
       "      <td>2</td>\n",
       "      <td>1</td>\n",
       "      <td>9</td>\n",
       "      <td>11</td>\n",
       "      <td>16</td>\n",
       "      <td>5</td>\n",
       "      <td>8</td>\n",
       "      <td>11</td>\n",
       "      <td>-1</td>\n",
       "    </tr>\n",
       "    <tr>\n",
       "      <th>96</th>\n",
       "      <td>0</td>\n",
       "      <td>1</td>\n",
       "      <td>0</td>\n",
       "      <td>0</td>\n",
       "      <td>1</td>\n",
       "      <td>1</td>\n",
       "      <td>1</td>\n",
       "      <td>5</td>\n",
       "      <td>7</td>\n",
       "      <td>13</td>\n",
       "      <td>7</td>\n",
       "      <td>8</td>\n",
       "      <td>7</td>\n",
       "      <td>1</td>\n",
       "    </tr>\n",
       "    <tr>\n",
       "      <th>97</th>\n",
       "      <td>0</td>\n",
       "      <td>1</td>\n",
       "      <td>0</td>\n",
       "      <td>0</td>\n",
       "      <td>1</td>\n",
       "      <td>1</td>\n",
       "      <td>1</td>\n",
       "      <td>6</td>\n",
       "      <td>9</td>\n",
       "      <td>15</td>\n",
       "      <td>7</td>\n",
       "      <td>7</td>\n",
       "      <td>11</td>\n",
       "      <td>1</td>\n",
       "    </tr>\n",
       "    <tr>\n",
       "      <th>98</th>\n",
       "      <td>0</td>\n",
       "      <td>1</td>\n",
       "      <td>0</td>\n",
       "      <td>0</td>\n",
       "      <td>1</td>\n",
       "      <td>1</td>\n",
       "      <td>1</td>\n",
       "      <td>5</td>\n",
       "      <td>4</td>\n",
       "      <td>11</td>\n",
       "      <td>4</td>\n",
       "      <td>4</td>\n",
       "      <td>7</td>\n",
       "      <td>1</td>\n",
       "    </tr>\n",
       "    <tr>\n",
       "      <th>99</th>\n",
       "      <td>0</td>\n",
       "      <td>1</td>\n",
       "      <td>0</td>\n",
       "      <td>2</td>\n",
       "      <td>1</td>\n",
       "      <td>1</td>\n",
       "      <td>1</td>\n",
       "      <td>2</td>\n",
       "      <td>2</td>\n",
       "      <td>3</td>\n",
       "      <td>2</td>\n",
       "      <td>3</td>\n",
       "      <td>6</td>\n",
       "      <td>-1</td>\n",
       "    </tr>\n",
       "  </tbody>\n",
       "</table>\n",
       "<p>100 rows × 14 columns</p>\n",
       "</div>"
      ],
      "text/plain": [
       "    LOC_BLANK  BRANCH_COUNT  LOC_CODE_AND_COMMENT  LOC_COMMENTS  \\\n",
       "0           1             5                     0             1   \n",
       "1           0             1                     0             0   \n",
       "2           0             7                     0             0   \n",
       "3           0             1                     0             0   \n",
       "4           0             1                     0             0   \n",
       "..        ...           ...                   ...           ...   \n",
       "95          0             3                     0             0   \n",
       "96          0             1                     0             0   \n",
       "97          0             1                     0             0   \n",
       "98          0             1                     0             0   \n",
       "99          0             1                     0             2   \n",
       "\n",
       "    CYCLOMATIC_COMPLEXITY  DESIGN_COMPLEXITY  ESSENTIAL_COMPLEXITY  \\\n",
       "0                       3                  2                     1   \n",
       "1                       1                  1                     1   \n",
       "2                       4                  4                     1   \n",
       "3                       1                  1                     1   \n",
       "4                       1                  1                     1   \n",
       "..                    ...                ...                   ...   \n",
       "95                      2                  2                     1   \n",
       "96                      1                  1                     1   \n",
       "97                      1                  1                     1   \n",
       "98                      1                  1                     1   \n",
       "99                      1                  1                     1   \n",
       "\n",
       "    LOC_EXECUTABLE  NUM_OPERANDS  NUM_OPERATORS  NUM_UNIQUE_OPERANDS  \\\n",
       "0               18            30             50                   13   \n",
       "1               10            10             12                   10   \n",
       "2               21            30             46                   19   \n",
       "3                2             4              3                    4   \n",
       "4                4             4              7                    3   \n",
       "..             ...           ...            ...                  ...   \n",
       "95               9            11             16                    5   \n",
       "96               5             7             13                    7   \n",
       "97               6             9             15                    7   \n",
       "98               5             4             11                    4   \n",
       "99               2             2              3                    2   \n",
       "\n",
       "    NUM_UNIQUE_OPERATORS  LOC_TOTAL  DEFECTIVE  \n",
       "0                     12         24          1  \n",
       "1                      6         16         -1  \n",
       "2                     11         25          1  \n",
       "3                      2          5         -1  \n",
       "4                      6          6         -1  \n",
       "..                   ...        ...        ...  \n",
       "95                     8         11         -1  \n",
       "96                     8          7          1  \n",
       "97                     7         11          1  \n",
       "98                     4          7          1  \n",
       "99                     3          6         -1  \n",
       "\n",
       "[100 rows x 14 columns]"
      ]
     },
     "execution_count": 4,
     "metadata": {},
     "output_type": "execute_result"
    }
   ],
   "source": [
    "testing_data"
   ]
  },
  {
   "cell_type": "code",
   "execution_count": 5,
   "metadata": {},
   "outputs": [
    {
     "data": {
      "text/html": [
       "<div>\n",
       "<style scoped>\n",
       "    .dataframe tbody tr th:only-of-type {\n",
       "        vertical-align: middle;\n",
       "    }\n",
       "\n",
       "    .dataframe tbody tr th {\n",
       "        vertical-align: top;\n",
       "    }\n",
       "\n",
       "    .dataframe thead th {\n",
       "        text-align: right;\n",
       "    }\n",
       "</style>\n",
       "<table border=\"1\" class=\"dataframe\">\n",
       "  <thead>\n",
       "    <tr style=\"text-align: right;\">\n",
       "      <th></th>\n",
       "      <th>LOC_BLANK</th>\n",
       "      <th>BRANCH_COUNT</th>\n",
       "      <th>LOC_CODE_AND_COMMENT</th>\n",
       "      <th>LOC_COMMENTS</th>\n",
       "      <th>CYCLOMATIC_COMPLEXITY</th>\n",
       "      <th>DESIGN_COMPLEXITY</th>\n",
       "      <th>ESSENTIAL_COMPLEXITY</th>\n",
       "      <th>LOC_EXECUTABLE</th>\n",
       "      <th>NUM_OPERANDS</th>\n",
       "      <th>NUM_OPERATORS</th>\n",
       "      <th>NUM_UNIQUE_OPERANDS</th>\n",
       "      <th>NUM_UNIQUE_OPERATORS</th>\n",
       "      <th>LOC_TOTAL</th>\n",
       "      <th>DEFECTIVE</th>\n",
       "    </tr>\n",
       "  </thead>\n",
       "  <tbody>\n",
       "    <tr>\n",
       "      <th>0</th>\n",
       "      <td>0</td>\n",
       "      <td>1</td>\n",
       "      <td>0</td>\n",
       "      <td>0</td>\n",
       "      <td>1</td>\n",
       "      <td>1</td>\n",
       "      <td>1</td>\n",
       "      <td>7</td>\n",
       "      <td>12</td>\n",
       "      <td>19</td>\n",
       "      <td>7</td>\n",
       "      <td>4</td>\n",
       "      <td>9</td>\n",
       "      <td>1</td>\n",
       "    </tr>\n",
       "    <tr>\n",
       "      <th>1</th>\n",
       "      <td>2</td>\n",
       "      <td>1</td>\n",
       "      <td>0</td>\n",
       "      <td>0</td>\n",
       "      <td>1</td>\n",
       "      <td>1</td>\n",
       "      <td>1</td>\n",
       "      <td>6</td>\n",
       "      <td>8</td>\n",
       "      <td>8</td>\n",
       "      <td>6</td>\n",
       "      <td>4</td>\n",
       "      <td>10</td>\n",
       "      <td>-1</td>\n",
       "    </tr>\n",
       "    <tr>\n",
       "      <th>2</th>\n",
       "      <td>3</td>\n",
       "      <td>9</td>\n",
       "      <td>0</td>\n",
       "      <td>3</td>\n",
       "      <td>1</td>\n",
       "      <td>1</td>\n",
       "      <td>1</td>\n",
       "      <td>24</td>\n",
       "      <td>22</td>\n",
       "      <td>33</td>\n",
       "      <td>13</td>\n",
       "      <td>11</td>\n",
       "      <td>33</td>\n",
       "      <td>1</td>\n",
       "    </tr>\n",
       "    <tr>\n",
       "      <th>3</th>\n",
       "      <td>0</td>\n",
       "      <td>1</td>\n",
       "      <td>0</td>\n",
       "      <td>0</td>\n",
       "      <td>1</td>\n",
       "      <td>1</td>\n",
       "      <td>1</td>\n",
       "      <td>1</td>\n",
       "      <td>1</td>\n",
       "      <td>2</td>\n",
       "      <td>1</td>\n",
       "      <td>2</td>\n",
       "      <td>4</td>\n",
       "      <td>-1</td>\n",
       "    </tr>\n",
       "    <tr>\n",
       "      <th>4</th>\n",
       "      <td>0</td>\n",
       "      <td>1</td>\n",
       "      <td>0</td>\n",
       "      <td>0</td>\n",
       "      <td>1</td>\n",
       "      <td>1</td>\n",
       "      <td>1</td>\n",
       "      <td>7</td>\n",
       "      <td>10</td>\n",
       "      <td>15</td>\n",
       "      <td>8</td>\n",
       "      <td>8</td>\n",
       "      <td>12</td>\n",
       "      <td>-1</td>\n",
       "    </tr>\n",
       "    <tr>\n",
       "      <th>...</th>\n",
       "      <td>...</td>\n",
       "      <td>...</td>\n",
       "      <td>...</td>\n",
       "      <td>...</td>\n",
       "      <td>...</td>\n",
       "      <td>...</td>\n",
       "      <td>...</td>\n",
       "      <td>...</td>\n",
       "      <td>...</td>\n",
       "      <td>...</td>\n",
       "      <td>...</td>\n",
       "      <td>...</td>\n",
       "      <td>...</td>\n",
       "      <td>...</td>\n",
       "    </tr>\n",
       "    <tr>\n",
       "      <th>395</th>\n",
       "      <td>8</td>\n",
       "      <td>9</td>\n",
       "      <td>0</td>\n",
       "      <td>9</td>\n",
       "      <td>5</td>\n",
       "      <td>5</td>\n",
       "      <td>3</td>\n",
       "      <td>33</td>\n",
       "      <td>31</td>\n",
       "      <td>57</td>\n",
       "      <td>15</td>\n",
       "      <td>12</td>\n",
       "      <td>52</td>\n",
       "      <td>-1</td>\n",
       "    </tr>\n",
       "    <tr>\n",
       "      <th>396</th>\n",
       "      <td>2</td>\n",
       "      <td>7</td>\n",
       "      <td>0</td>\n",
       "      <td>0</td>\n",
       "      <td>4</td>\n",
       "      <td>4</td>\n",
       "      <td>3</td>\n",
       "      <td>33</td>\n",
       "      <td>44</td>\n",
       "      <td>80</td>\n",
       "      <td>21</td>\n",
       "      <td>13</td>\n",
       "      <td>38</td>\n",
       "      <td>-1</td>\n",
       "    </tr>\n",
       "    <tr>\n",
       "      <th>397</th>\n",
       "      <td>0</td>\n",
       "      <td>1</td>\n",
       "      <td>0</td>\n",
       "      <td>0</td>\n",
       "      <td>1</td>\n",
       "      <td>1</td>\n",
       "      <td>1</td>\n",
       "      <td>3</td>\n",
       "      <td>3</td>\n",
       "      <td>3</td>\n",
       "      <td>3</td>\n",
       "      <td>3</td>\n",
       "      <td>5</td>\n",
       "      <td>-1</td>\n",
       "    </tr>\n",
       "    <tr>\n",
       "      <th>398</th>\n",
       "      <td>1</td>\n",
       "      <td>1</td>\n",
       "      <td>0</td>\n",
       "      <td>0</td>\n",
       "      <td>1</td>\n",
       "      <td>1</td>\n",
       "      <td>1</td>\n",
       "      <td>5</td>\n",
       "      <td>5</td>\n",
       "      <td>7</td>\n",
       "      <td>4</td>\n",
       "      <td>4</td>\n",
       "      <td>7</td>\n",
       "      <td>-1</td>\n",
       "    </tr>\n",
       "    <tr>\n",
       "      <th>399</th>\n",
       "      <td>0</td>\n",
       "      <td>1</td>\n",
       "      <td>0</td>\n",
       "      <td>0</td>\n",
       "      <td>1</td>\n",
       "      <td>1</td>\n",
       "      <td>1</td>\n",
       "      <td>10</td>\n",
       "      <td>19</td>\n",
       "      <td>29</td>\n",
       "      <td>14</td>\n",
       "      <td>8</td>\n",
       "      <td>16</td>\n",
       "      <td>-1</td>\n",
       "    </tr>\n",
       "  </tbody>\n",
       "</table>\n",
       "<p>400 rows × 14 columns</p>\n",
       "</div>"
      ],
      "text/plain": [
       "     LOC_BLANK  BRANCH_COUNT  LOC_CODE_AND_COMMENT  LOC_COMMENTS  \\\n",
       "0            0             1                     0             0   \n",
       "1            2             1                     0             0   \n",
       "2            3             9                     0             3   \n",
       "3            0             1                     0             0   \n",
       "4            0             1                     0             0   \n",
       "..         ...           ...                   ...           ...   \n",
       "395          8             9                     0             9   \n",
       "396          2             7                     0             0   \n",
       "397          0             1                     0             0   \n",
       "398          1             1                     0             0   \n",
       "399          0             1                     0             0   \n",
       "\n",
       "     CYCLOMATIC_COMPLEXITY  DESIGN_COMPLEXITY  ESSENTIAL_COMPLEXITY  \\\n",
       "0                        1                  1                     1   \n",
       "1                        1                  1                     1   \n",
       "2                        1                  1                     1   \n",
       "3                        1                  1                     1   \n",
       "4                        1                  1                     1   \n",
       "..                     ...                ...                   ...   \n",
       "395                      5                  5                     3   \n",
       "396                      4                  4                     3   \n",
       "397                      1                  1                     1   \n",
       "398                      1                  1                     1   \n",
       "399                      1                  1                     1   \n",
       "\n",
       "     LOC_EXECUTABLE  NUM_OPERANDS  NUM_OPERATORS  NUM_UNIQUE_OPERANDS  \\\n",
       "0                 7            12             19                    7   \n",
       "1                 6             8              8                    6   \n",
       "2                24            22             33                   13   \n",
       "3                 1             1              2                    1   \n",
       "4                 7            10             15                    8   \n",
       "..              ...           ...            ...                  ...   \n",
       "395              33            31             57                   15   \n",
       "396              33            44             80                   21   \n",
       "397               3             3              3                    3   \n",
       "398               5             5              7                    4   \n",
       "399              10            19             29                   14   \n",
       "\n",
       "     NUM_UNIQUE_OPERATORS  LOC_TOTAL  DEFECTIVE  \n",
       "0                       4          9          1  \n",
       "1                       4         10         -1  \n",
       "2                      11         33          1  \n",
       "3                       2          4         -1  \n",
       "4                       8         12         -1  \n",
       "..                    ...        ...        ...  \n",
       "395                    12         52         -1  \n",
       "396                    13         38         -1  \n",
       "397                     3          5         -1  \n",
       "398                     4          7         -1  \n",
       "399                     8         16         -1  \n",
       "\n",
       "[400 rows x 14 columns]"
      ]
     },
     "execution_count": 5,
     "metadata": {},
     "output_type": "execute_result"
    }
   ],
   "source": [
    "training_data"
   ]
  },
  {
   "cell_type": "code",
   "execution_count": 6,
   "metadata": {},
   "outputs": [
    {
     "data": {
      "image/png": "[encoded data removed]",
      "text/plain": [
       "<Figure size 432x288 with 1 Axes>"
      ]
     },
     "metadata": {
      "needs_background": "light"
     },
     "output_type": "display_data"
    }
   ],
   "source": [
    "import matplotlib.pyplot as plt\n",
    "import numpy as np\n",
    "#plot comparing NUM_OPERANDS to NUM_OPERATORS\n",
    "fig = plt.figure()\n",
    "plt.title(\"Plotting NUM_OPERANDS against NUM_OPERATORS\")\n",
    "plt.xlabel(\"NUM_OPERANDS\")\n",
    "plt.ylabel(\"NUM_OPERATORS\")\n",
    "plt.scatter(training_data.iloc[:, 8],training_data.iloc[:, 9],marker = 'o')\n",
    "plt.show()"
   ]
  },
  {
   "cell_type": "code",
   "execution_count": 7,
   "metadata": {},
   "outputs": [],
   "source": [
    "\"\"\"Splitting data\"\"\"\n",
    "train_inputs = training_data.iloc[:, 0:13]\n",
    "train_labels = training_data.iloc[:,13]\n",
    "\n",
    "test_inputs = testing_data.iloc[:, 0:13]\n",
    "test_labels = testing_data.iloc[:,13]"
   ]
  },
  {
   "cell_type": "code",
   "execution_count": 8,
   "metadata": {},
   "outputs": [],
   "source": [
    "from sklearn.preprocessing import StandardScaler\n",
    "from sklearn import preprocessing\n",
    "#StandardScaler using parameters frpm the training data\n",
    "scaler = preprocessing.StandardScaler().fit(train_inputs)\n",
    "#Normalising the data\n",
    "scaled_data_training = scaler.transform(train_inputs)\n",
    "scaled_data_test = scaler.transform(test_inputs)"
   ]
  },
  {
   "cell_type": "code",
   "execution_count": 9,
   "metadata": {},
   "outputs": [],
   "source": [
    "import numpy as np\n",
    "from sklearn.decomposition import PCA\n",
    "pca = PCA()\n",
    "train = pca.fit_transform(scaled_data_training)"
   ]
  },
  {
   "cell_type": "code",
   "execution_count": 10,
   "metadata": {},
   "outputs": [
    {
     "data": {
      "text/plain": [
       "array([9.62022196e+00, 1.01743247e+00, 8.77802044e-01, 5.30464425e-01,\n",
       "       4.24033994e-01, 2.33567446e-01, 1.80840247e-01, 6.63390402e-02,\n",
       "       3.91313540e-02, 2.88607814e-02, 1.09915563e-02, 1.91247185e-03,\n",
       "       9.83665542e-04])"
      ]
     },
     "execution_count": 10,
     "metadata": {},
     "output_type": "execute_result"
    }
   ],
   "source": [
    "pca.explained_variance_"
   ]
  },
  {
   "cell_type": "code",
   "execution_count": 11,
   "metadata": {},
   "outputs": [
    {
     "data": {
      "text/plain": [
       "array([7.38167031e-01, 7.80683757e-02, 6.73544261e-02, 4.07029434e-02,\n",
       "       3.25364546e-02, 1.79218098e-02, 1.38760113e-02, 5.09024559e-03,\n",
       "       3.00257890e-03, 2.21450996e-03, 8.43390568e-04, 1.46745436e-04,\n",
       "       7.54774137e-05])"
      ]
     },
     "execution_count": 11,
     "metadata": {},
     "output_type": "execute_result"
    }
   ],
   "source": [
    "pca.explained_variance_ratio_"
   ]
  },
  {
   "cell_type": "code",
   "execution_count": 12,
   "metadata": {},
   "outputs": [
    {
     "data": {
      "text/plain": [
       "[<matplotlib.lines.Line2D at 0x1e5e0eb0370>]"
      ]
     },
     "execution_count": 12,
     "metadata": {},
     "output_type": "execute_result"
    },
    {
     "data": {
      "image/png": "[encoded data removed]",
      "text/plain": [
       "<Figure size 432x288 with 1 Axes>"
      ]
     },
     "metadata": {
      "needs_background": "light"
     },
     "output_type": "display_data"
    }
   ],
   "source": [
    "plt.plot(pca.explained_variance_ratio_, color='blue', linestyle='dotted')"
   ]
  },
  {
   "cell_type": "code",
   "execution_count": 13,
   "metadata": {},
   "outputs": [
    {
     "data": {
      "image/png": "[encoded data removed]",
      "text/plain": [
       "<Figure size 432x288 with 1 Axes>"
      ]
     },
     "metadata": {
      "needs_background": "light"
     },
     "output_type": "display_data"
    }
   ],
   "source": [
    "per_var = np.round(pca.explained_variance_ratio_*100, decimals= 1)\n",
    "labels = ['PC' + str(n) for n in range(1, len(per_var)+1)]\n",
    "plt.bar(x=range(1,len(per_var)+1), height=per_var, tick_label=labels)\n",
    "plt.ylabel('Percentage of Explained Variance')\n",
    "plt.xlabel('principal component')\n",
    "plt.title('Scree Plot')\n",
    "plt.show()"
   ]
  },
  {
   "cell_type": "code",
   "execution_count": 14,
   "metadata": {},
   "outputs": [],
   "source": [
    "test = pca.fit_transform(scaled_data_test)"
   ]
  },
  {
   "cell_type": "code",
   "execution_count": 15,
   "metadata": {},
   "outputs": [
    {
     "data": {
      "image/png": "[encoded data removed]",
      "text/plain": [
       "<Figure size 432x288 with 2 Axes>"
      ]
     },
     "metadata": {
      "needs_background": "light"
     },
     "output_type": "display_data"
    }
   ],
   "source": [
    "plt.subplot(211)\n",
    "plt.title(\"PCA Visualisation of the Test Data\")\n",
    "plt.xlabel(\"PC1\")\n",
    "plt.ylabel(\"PC2\")\n",
    "plt.scatter(test[:, 0],test[:, 1],c=test_labels, marker = 'o',alpha = 0.5)\n",
    "plt.subplot(212)\n",
    "plt.title(\"PCA Visualisation of the Training Data\")\n",
    "plt.xlabel(\"PC1\")\n",
    "plt.ylabel(\"PC2\")\n",
    "plt.scatter(train[:, 0],train[:, 1],c=train_labels, marker = 'o', alpha =0.5)\n",
    "plt.tight_layout()\n",
    "plt.show()"
   ]
  },
  {
   "cell_type": "code",
   "execution_count": 16,
   "metadata": {},
   "outputs": [
    {
     "data": {
      "text/plain": [
       "<matplotlib.collections.PathCollection at 0x1e5e105c640>"
      ]
     },
     "execution_count": 16,
     "metadata": {},
     "output_type": "execute_result"
    },
    {
     "data": {
      "image/png": "[encoded data removed]",
      "text/plain": [
       "<Figure size 432x288 with 1 Axes>"
      ]
     },
     "metadata": {
      "needs_background": "light"
     },
     "output_type": "display_data"
    }
   ],
   "source": [
    "plt.scatter(test[:, 0],test[:, 1],c=test_labels, marker = 'o',alpha = 0.5)"
   ]
  },
  {
   "cell_type": "code",
   "execution_count": 17,
   "metadata": {},
   "outputs": [
    {
     "data": {
      "text/plain": [
       "<matplotlib.collections.PathCollection at 0x1e5e10b1c70>"
      ]
     },
     "execution_count": 17,
     "metadata": {},
     "output_type": "execute_result"
    },
    {
     "data": {
      "image/png": "[encoded data removed]",
      "text/plain": [
       "<Figure size 432x288 with 1 Axes>"
      ]
     },
     "metadata": {
      "needs_background": "light"
     },
     "output_type": "display_data"
    }
   ],
   "source": [
    "plt.scatter(train[:, 0],train[:, 1],c=train_labels, marker = 'o', alpha =0.5)"
   ]
  },
  {
   "cell_type": "code",
   "execution_count": 18,
   "metadata": {},
   "outputs": [],
   "source": [
    "\"\"\"Task 2\"\"\"\n",
    "from sklearn.model_selection import train_test_split\n",
    "#Xtrain, Xtest, ytrain, ytest = train_test_split(train_inputs,train_labels, test_size=0.3, random_state=42)\n",
    "\n",
    "SXtrain, Xvalid, Sytrain, vtest = train_test_split(train_inputs, train_labels, test_size=0.30,random_state=42)"
   ]
  },
  {
   "cell_type": "code",
   "execution_count": 19,
   "metadata": {},
   "outputs": [
    {
     "data": {
      "text/plain": [
       "280"
      ]
     },
     "execution_count": 19,
     "metadata": {},
     "output_type": "execute_result"
    }
   ],
   "source": [
    "len(SXtrain)"
   ]
  },
  {
   "cell_type": "code",
   "execution_count": 20,
   "metadata": {},
   "outputs": [
    {
     "data": {
      "text/plain": [
       "120"
      ]
     },
     "execution_count": 20,
     "metadata": {},
     "output_type": "execute_result"
    }
   ],
   "source": [
    "len(Xvalid)"
   ]
  },
  {
   "cell_type": "code",
   "execution_count": 21,
   "metadata": {},
   "outputs": [],
   "source": [
    "scaler2 = preprocessing.StandardScaler().fit(SXtrain)\n",
    "\"\"\"Scale the training set\"\"\"\n",
    "scaled_trnX = scaler2.transform(SXtrain)\n",
    "\"\"\"Scale the validation set\"\"\"\n",
    "scaled_valX = scaler2.transform(Xvalid)"
   ]
  },
  {
   "cell_type": "code",
   "execution_count": 22,
   "metadata": {},
   "outputs": [
    {
     "name": "stdout",
     "output_type": "stream",
     "text": [
      "Accuracy: 0.725\n"
     ]
    }
   ],
   "source": [
    "\"\"\"Task 3\"\"\"\n",
    "from sklearn.svm import SVC\n",
    "from sklearn import metrics\n",
    "svc1 = SVC(kernel='rbf', class_weight='balanced', C=50, gamma=0.01)\n",
    "model1 = svc1.fit(scaled_trnX, Sytrain)\n",
    "vyfit1 = model1.predict(scaled_valX)\n",
    "print('Accuracy:', metrics.accuracy_score(vtest, vyfit1))"
   ]
  },
  {
   "cell_type": "code",
   "execution_count": 23,
   "metadata": {},
   "outputs": [
    {
     "name": "stdout",
     "output_type": "stream",
     "text": [
      "Accuracy: 0.7083333333333334\n"
     ]
    }
   ],
   "source": [
    "svc2 = SVC(kernel='rbf', class_weight='balanced', C=50, gamma=10)\n",
    "model2 = svc2.fit(scaled_trnX, Sytrain)\n",
    "vyfit2 = model2.predict(scaled_valX)\n",
    "print('Accuracy:', metrics.accuracy_score(vtest, vyfit2))"
   ]
  },
  {
   "cell_type": "code",
   "execution_count": 24,
   "metadata": {},
   "outputs": [
    {
     "name": "stdout",
     "output_type": "stream",
     "text": [
      "Accuracy: 0.7083333333333334\n"
     ]
    }
   ],
   "source": [
    "svc3 = SVC(kernel='rbf', class_weight='balanced', C=5, gamma=1)\n",
    "model3 = svc3.fit(scaled_trnX, Sytrain)\n",
    "vyfit3 = model3.predict(scaled_valX)\n",
    "print('Accuracy:', metrics.accuracy_score(vtest, vyfit3))"
   ]
  },
  {
   "cell_type": "code",
   "execution_count": 25,
   "metadata": {},
   "outputs": [
    {
     "name": "stdout",
     "output_type": "stream",
     "text": [
      "Accuracy: 0.7166666666666667\n"
     ]
    }
   ],
   "source": [
    "svc4 = SVC(kernel='rbf', class_weight='balanced', C=100, gamma=0.01)\n",
    "model4 = svc4.fit(scaled_trnX, Sytrain)\n",
    "vyfit4 = model4.predict(scaled_valX)\n",
    "print('Accuracy:', metrics.accuracy_score(vtest, vyfit4))"
   ]
  },
  {
   "cell_type": "code",
   "execution_count": 26,
   "metadata": {},
   "outputs": [
    {
     "name": "stdout",
     "output_type": "stream",
     "text": [
      "Accuracy: 0.7083333333333334\n"
     ]
    }
   ],
   "source": [
    "svc5 = SVC(kernel='rbf', class_weight='balanced', C=100, gamma=10)\n",
    "model5 = svc5.fit(scaled_trnX, Sytrain)\n",
    "vyfit5 = model5.predict(scaled_valX)\n",
    "print('Accuracy:', metrics.accuracy_score(vtest, vyfit5))"
   ]
  },
  {
   "cell_type": "code",
   "execution_count": 27,
   "metadata": {},
   "outputs": [
    {
     "name": "stdout",
     "output_type": "stream",
     "text": [
      "Accuracy: 0.6833333333333333\n"
     ]
    }
   ],
   "source": [
    "svc6 = SVC(kernel='rbf', class_weight='balanced', C=100, gamma=1)\n",
    "model6 = svc6.fit(scaled_trnX, Sytrain)\n",
    "vyfit6 = model6.predict(scaled_valX)\n",
    "print('Accuracy:', metrics.accuracy_score(vtest, vyfit6))"
   ]
  },
  {
   "cell_type": "code",
   "execution_count": 28,
   "metadata": {},
   "outputs": [
    {
     "name": "stdout",
     "output_type": "stream",
     "text": [
      "              precision    recall  f1-score   support\n",
      "\n",
      "           1       0.93      0.45      0.60        56\n",
      "          -1       0.67      0.97      0.79        64\n",
      "           1       0.93      0.45      0.60        56\n",
      "          -1       0.67      0.97      0.79        64\n",
      "          -1       0.67      0.97      0.79        64\n",
      "           1       0.93      0.45      0.60        56\n",
      "          -1       0.67      0.97      0.79        64\n",
      "           1       0.93      0.45      0.60        56\n",
      "           1       0.93      0.45      0.60        56\n",
      "          -1       0.67      0.97      0.79        64\n",
      "           1       0.93      0.45      0.60        56\n",
      "          -1       0.67      0.97      0.79        64\n",
      "           1       0.93      0.45      0.60        56\n",
      "          -1       0.67      0.97      0.79        64\n",
      "          -1       0.67      0.97      0.79        64\n",
      "          -1       0.67      0.97      0.79        64\n",
      "           1       0.93      0.45      0.60        56\n",
      "          -1       0.67      0.97      0.79        64\n",
      "          -1       0.67      0.97      0.79        64\n",
      "          -1       0.67      0.97      0.79        64\n",
      "           1       0.93      0.45      0.60        56\n",
      "           1       0.93      0.45      0.60        56\n",
      "          -1       0.67      0.97      0.79        64\n",
      "          -1       0.67      0.97      0.79        64\n",
      "          -1       0.67      0.97      0.79        64\n",
      "          -1       0.67      0.97      0.79        64\n",
      "          -1       0.67      0.97      0.79        64\n",
      "           1       0.93      0.45      0.60        56\n",
      "          -1       0.67      0.97      0.79        64\n",
      "           1       0.93      0.45      0.60        56\n",
      "           1       0.93      0.45      0.60        56\n",
      "           1       0.93      0.45      0.60        56\n",
      "          -1       0.67      0.97      0.79        64\n",
      "          -1       0.67      0.97      0.79        64\n",
      "          -1       0.67      0.97      0.79        64\n",
      "           1       0.93      0.45      0.60        56\n",
      "          -1       0.67      0.97      0.79        64\n",
      "          -1       0.67      0.97      0.79        64\n",
      "           1       0.93      0.45      0.60        56\n",
      "          -1       0.67      0.97      0.79        64\n",
      "           1       0.93      0.45      0.60        56\n",
      "           1       0.93      0.45      0.60        56\n",
      "          -1       0.67      0.97      0.79        64\n",
      "           1       0.93      0.45      0.60        56\n",
      "           1       0.93      0.45      0.60        56\n",
      "           1       0.93      0.45      0.60        56\n",
      "           1       0.93      0.45      0.60        56\n",
      "           1       0.93      0.45      0.60        56\n",
      "           1       0.93      0.45      0.60        56\n",
      "          -1       0.67      0.97      0.79        64\n",
      "          -1       0.67      0.97      0.79        64\n",
      "           1       0.93      0.45      0.60        56\n",
      "           1       0.93      0.45      0.60        56\n",
      "           1       0.93      0.45      0.60        56\n",
      "           1       0.93      0.45      0.60        56\n",
      "          -1       0.67      0.97      0.79        64\n",
      "          -1       0.67      0.97      0.79        64\n",
      "           1       0.93      0.45      0.60        56\n",
      "          -1       0.67      0.97      0.79        64\n",
      "           1       0.93      0.45      0.60        56\n",
      "          -1       0.67      0.97      0.79        64\n",
      "           1       0.93      0.45      0.60        56\n",
      "          -1       0.67      0.97      0.79        64\n",
      "           1       0.93      0.45      0.60        56\n",
      "           1       0.93      0.45      0.60        56\n",
      "           1       0.93      0.45      0.60        56\n",
      "           1       0.93      0.45      0.60        56\n",
      "          -1       0.67      0.97      0.79        64\n",
      "          -1       0.67      0.97      0.79        64\n",
      "          -1       0.67      0.97      0.79        64\n",
      "          -1       0.67      0.97      0.79        64\n",
      "           1       0.93      0.45      0.60        56\n",
      "           1       0.93      0.45      0.60        56\n",
      "           1       0.93      0.45      0.60        56\n",
      "          -1       0.67      0.97      0.79        64\n",
      "          -1       0.67      0.97      0.79        64\n",
      "          -1       0.67      0.97      0.79        64\n",
      "           1       0.93      0.45      0.60        56\n",
      "          -1       0.67      0.97      0.79        64\n",
      "           1       0.93      0.45      0.60        56\n",
      "          -1       0.67      0.97      0.79        64\n",
      "          -1       0.67      0.97      0.79        64\n",
      "           1       0.93      0.45      0.60        56\n",
      "           1       0.93      0.45      0.60        56\n",
      "          -1       0.67      0.97      0.79        64\n",
      "          -1       0.67      0.97      0.79        64\n",
      "           1       0.93      0.45      0.60        56\n",
      "           1       0.93      0.45      0.60        56\n",
      "          -1       0.67      0.97      0.79        64\n",
      "          -1       0.67      0.97      0.79        64\n",
      "          -1       0.67      0.97      0.79        64\n",
      "           1       0.93      0.45      0.60        56\n",
      "          -1       0.67      0.97      0.79        64\n",
      "           1       0.93      0.45      0.60        56\n",
      "           1       0.93      0.45      0.60        56\n",
      "           1       0.93      0.45      0.60        56\n",
      "          -1       0.67      0.97      0.79        64\n",
      "           1       0.93      0.45      0.60        56\n",
      "           1       0.93      0.45      0.60        56\n",
      "           1       0.93      0.45      0.60        56\n",
      "          -1       0.67      0.97      0.79        64\n",
      "          -1       0.67      0.97      0.79        64\n",
      "          -1       0.67      0.97      0.79        64\n",
      "           1       0.93      0.45      0.60        56\n",
      "           1       0.93      0.45      0.60        56\n",
      "          -1       0.67      0.97      0.79        64\n",
      "          -1       0.67      0.97      0.79        64\n",
      "          -1       0.67      0.97      0.79        64\n",
      "          -1       0.67      0.97      0.79        64\n",
      "           1       0.93      0.45      0.60        56\n",
      "           1       0.93      0.45      0.60        56\n",
      "           1       0.93      0.45      0.60        56\n",
      "           1       0.93      0.45      0.60        56\n",
      "          -1       0.67      0.97      0.79        64\n",
      "           1       0.93      0.45      0.60        56\n",
      "           1       0.93      0.45      0.60        56\n",
      "          -1       0.67      0.97      0.79        64\n",
      "           1       0.93      0.45      0.60        56\n",
      "          -1       0.67      0.97      0.79        64\n",
      "          -1       0.67      0.97      0.79        64\n",
      "          -1       0.67      0.97      0.79        64\n",
      "           1       0.93      0.45      0.60        56\n",
      "           1       0.93      0.45      0.60        56\n",
      "          -1       0.67      0.97      0.79        64\n",
      "           1       0.93      0.45      0.60        56\n",
      "           1       0.93      0.45      0.60        56\n",
      "          -1       0.67      0.97      0.79        64\n",
      "           1       0.93      0.45      0.60        56\n",
      "           1       0.93      0.45      0.60        56\n",
      "          -1       0.67      0.97      0.79        64\n",
      "          -1       0.67      0.97      0.79        64\n",
      "           1       0.93      0.45      0.60        56\n",
      "           1       0.93      0.45      0.60        56\n",
      "          -1       0.67      0.97      0.79        64\n",
      "           1       0.93      0.45      0.60        56\n",
      "           1       0.93      0.45      0.60        56\n",
      "          -1       0.67      0.97      0.79        64\n",
      "          -1       0.67      0.97      0.79        64\n",
      "          -1       0.67      0.97      0.79        64\n",
      "          -1       0.67      0.97      0.79        64\n",
      "           1       0.93      0.45      0.60        56\n",
      "           1       0.93      0.45      0.60        56\n",
      "           1       0.93      0.45      0.60        56\n",
      "           1       0.93      0.45      0.60        56\n",
      "          -1       0.67      0.97      0.79        64\n",
      "          -1       0.67      0.97      0.79        64\n",
      "          -1       0.67      0.97      0.79        64\n",
      "          -1       0.67      0.97      0.79        64\n",
      "           1       0.93      0.45      0.60        56\n",
      "           1       0.93      0.45      0.60        56\n",
      "          -1       0.67      0.97      0.79        64\n",
      "           1       0.93      0.45      0.60        56\n",
      "           1       0.93      0.45      0.60        56\n",
      "           1       0.93      0.45      0.60        56\n",
      "          -1       0.67      0.97      0.79        64\n",
      "           1       0.93      0.45      0.60        56\n",
      "           1       0.93      0.45      0.60        56\n",
      "           1       0.93      0.45      0.60        56\n",
      "           1       0.93      0.45      0.60        56\n",
      "           1       0.93      0.45      0.60        56\n",
      "          -1       0.67      0.97      0.79        64\n",
      "          -1       0.67      0.97      0.79        64\n",
      "           1       0.93      0.45      0.60        56\n",
      "           1       0.93      0.45      0.60        56\n",
      "          -1       0.67      0.97      0.79        64\n",
      "          -1       0.67      0.97      0.79        64\n",
      "          -1       0.67      0.97      0.79        64\n",
      "          -1       0.67      0.97      0.79        64\n",
      "           1       0.93      0.45      0.60        56\n",
      "           1       0.93      0.45      0.60        56\n",
      "          -1       0.67      0.97      0.79        64\n",
      "           1       0.93      0.45      0.60        56\n",
      "           1       0.93      0.45      0.60        56\n",
      "          -1       0.67      0.97      0.79        64\n",
      "          -1       0.67      0.97      0.79        64\n",
      "           1       0.93      0.45      0.60        56\n",
      "           1       0.93      0.45      0.60        56\n",
      "           1       0.93      0.45      0.60        56\n",
      "          -1       0.67      0.97      0.79        64\n",
      "          -1       0.67      0.97      0.79        64\n",
      "          -1       0.67      0.97      0.79        64\n",
      "          -1       0.67      0.97      0.79        64\n",
      "           1       0.93      0.45      0.60        56\n",
      "          -1       0.67      0.97      0.79        64\n",
      "           1       0.93      0.45      0.60        56\n",
      "          -1       0.67      0.97      0.79        64\n",
      "           1       0.93      0.45      0.60        56\n",
      "          -1       0.67      0.97      0.79        64\n",
      "           1       0.93      0.45      0.60        56\n",
      "          -1       0.67      0.97      0.79        64\n",
      "          -1       0.67      0.97      0.79        64\n",
      "           1       0.93      0.45      0.60        56\n",
      "           1       0.93      0.45      0.60        56\n",
      "           1       0.93      0.45      0.60        56\n",
      "           1       0.93      0.45      0.60        56\n",
      "           1       0.93      0.45      0.60        56\n",
      "           1       0.93      0.45      0.60        56\n",
      "           1       0.93      0.45      0.60        56\n",
      "           1       0.93      0.45      0.60        56\n",
      "           1       0.93      0.45      0.60        56\n",
      "          -1       0.67      0.97      0.79        64\n",
      "           1       0.93      0.45      0.60        56\n",
      "          -1       0.67      0.97      0.79        64\n",
      "          -1       0.67      0.97      0.79        64\n",
      "           1       0.93      0.45      0.60        56\n",
      "          -1       0.67      0.97      0.79        64\n",
      "           1       0.93      0.45      0.60        56\n",
      "           1       0.93      0.45      0.60        56\n",
      "          -1       0.67      0.97      0.79        64\n",
      "           1       0.93      0.45      0.60        56\n",
      "           1       0.93      0.45      0.60        56\n",
      "          -1       0.67      0.97      0.79        64\n",
      "          -1       0.67      0.97      0.79        64\n",
      "          -1       0.67      0.97      0.79        64\n",
      "           1       0.93      0.45      0.60        56\n",
      "          -1       0.67      0.97      0.79        64\n",
      "           1       0.93      0.45      0.60        56\n",
      "           1       0.93      0.45      0.60        56\n",
      "           1       0.93      0.45      0.60        56\n",
      "           1       0.93      0.45      0.60        56\n",
      "          -1       0.67      0.97      0.79        64\n",
      "          -1       0.67      0.97      0.79        64\n",
      "           1       0.93      0.45      0.60        56\n",
      "          -1       0.67      0.97      0.79        64\n",
      "          -1       0.67      0.97      0.79        64\n",
      "           1       0.93      0.45      0.60        56\n",
      "          -1       0.67      0.97      0.79        64\n",
      "          -1       0.67      0.97      0.79        64\n",
      "           1       0.93      0.45      0.60        56\n",
      "          -1       0.67      0.97      0.79        64\n",
      "          -1       0.67      0.97      0.79        64\n",
      "          -1       0.67      0.97      0.79        64\n",
      "           1       0.93      0.45      0.60        56\n",
      "          -1       0.67      0.97      0.79        64\n",
      "           1       0.93      0.45      0.60        56\n",
      "          -1       0.67      0.97      0.79        64\n",
      "          -1       0.67      0.97      0.79        64\n",
      "           1       0.93      0.45      0.60        56\n",
      "          -1       0.67      0.97      0.79        64\n",
      "           1       0.93      0.45      0.60        56\n",
      "           1       0.93      0.45      0.60        56\n",
      "          -1       0.67      0.97      0.79        64\n",
      "          -1       0.67      0.97      0.79        64\n",
      "           1       0.93      0.45      0.60        56\n",
      "          -1       0.67      0.97      0.79        64\n",
      "           1       0.93      0.45      0.60        56\n",
      "           1       0.93      0.45      0.60        56\n",
      "           1       0.93      0.45      0.60        56\n",
      "          -1       0.67      0.97      0.79        64\n",
      "           1       0.93      0.45      0.60        56\n",
      "          -1       0.67      0.97      0.79        64\n",
      "           1       0.93      0.45      0.60        56\n",
      "           1       0.93      0.45      0.60        56\n",
      "          -1       0.67      0.97      0.79        64\n",
      "           1       0.93      0.45      0.60        56\n",
      "          -1       0.67      0.97      0.79        64\n",
      "          -1       0.67      0.97      0.79        64\n",
      "          -1       0.67      0.97      0.79        64\n",
      "           1       0.93      0.45      0.60        56\n",
      "          -1       0.67      0.97      0.79        64\n",
      "          -1       0.67      0.97      0.79        64\n",
      "           1       0.93      0.45      0.60        56\n",
      "          -1       0.67      0.97      0.79        64\n",
      "          -1       0.67      0.97      0.79        64\n",
      "           1       0.93      0.45      0.60        56\n",
      "           1       0.93      0.45      0.60        56\n",
      "          -1       0.67      0.97      0.79        64\n",
      "          -1       0.67      0.97      0.79        64\n",
      "          -1       0.67      0.97      0.79        64\n",
      "           1       0.93      0.45      0.60        56\n",
      "          -1       0.67      0.97      0.79        64\n",
      "          -1       0.67      0.97      0.79        64\n",
      "           1       0.93      0.45      0.60        56\n",
      "           1       0.93      0.45      0.60        56\n",
      "           1       0.93      0.45      0.60        56\n",
      "          -1       0.67      0.97      0.79        64\n",
      "          -1       0.67      0.97      0.79        64\n",
      "          -1       0.67      0.97      0.79        64\n",
      "           1       0.93      0.45      0.60        56\n",
      "           1       0.93      0.45      0.60        56\n",
      "          -1       0.67      0.97      0.79        64\n",
      "          -1       0.67      0.97      0.79        64\n",
      "           1       0.93      0.45      0.60        56\n",
      "          -1       0.67      0.97      0.79        64\n",
      "           1       0.93      0.45      0.60        56\n",
      "           1       0.93      0.45      0.60        56\n",
      "           1       0.93      0.45      0.60        56\n",
      "          -1       0.67      0.97      0.79        64\n",
      "           1       0.93      0.45      0.60        56\n",
      "           1       0.93      0.45      0.60        56\n",
      "          -1       0.67      0.97      0.79        64\n",
      "           1       0.93      0.45      0.60        56\n",
      "          -1       0.67      0.97      0.79        64\n",
      "           1       0.93      0.45      0.60        56\n",
      "          -1       0.67      0.97      0.79        64\n",
      "           1       0.93      0.45      0.60        56\n",
      "           1       0.93      0.45      0.60        56\n",
      "          -1       0.67      0.97      0.79        64\n",
      "           1       0.93      0.45      0.60        56\n",
      "          -1       0.67      0.97      0.79        64\n",
      "          -1       0.67      0.97      0.79        64\n",
      "           1       0.93      0.45      0.60        56\n",
      "          -1       0.67      0.97      0.79        64\n",
      "           1       0.93      0.45      0.60        56\n",
      "          -1       0.67      0.97      0.79        64\n",
      "          -1       0.67      0.97      0.79        64\n",
      "          -1       0.67      0.97      0.79        64\n",
      "          -1       0.67      0.97      0.79        64\n",
      "          -1       0.67      0.97      0.79        64\n",
      "          -1       0.67      0.97      0.79        64\n",
      "          -1       0.67      0.97      0.79        64\n",
      "           1       0.93      0.45      0.60        56\n",
      "          -1       0.67      0.97      0.79        64\n",
      "          -1       0.67      0.97      0.79        64\n",
      "          -1       0.67      0.97      0.79        64\n",
      "          -1       0.67      0.97      0.79        64\n",
      "           1       0.93      0.45      0.60        56\n",
      "           1       0.93      0.45      0.60        56\n",
      "          -1       0.67      0.97      0.79        64\n",
      "          -1       0.67      0.97      0.79        64\n",
      "          -1       0.67      0.97      0.79        64\n",
      "          -1       0.67      0.97      0.79        64\n",
      "          -1       0.67      0.97      0.79        64\n",
      "          -1       0.67      0.97      0.79        64\n",
      "           1       0.93      0.45      0.60        56\n",
      "          -1       0.67      0.97      0.79        64\n",
      "           1       0.93      0.45      0.60        56\n",
      "           1       0.93      0.45      0.60        56\n",
      "          -1       0.67      0.97      0.79        64\n",
      "           1       0.93      0.45      0.60        56\n",
      "          -1       0.67      0.97      0.79        64\n",
      "           1       0.93      0.45      0.60        56\n",
      "          -1       0.67      0.97      0.79        64\n",
      "           1       0.93      0.45      0.60        56\n",
      "           1       0.93      0.45      0.60        56\n",
      "          -1       0.67      0.97      0.79        64\n",
      "          -1       0.67      0.97      0.79        64\n",
      "           1       0.93      0.45      0.60        56\n",
      "           1       0.93      0.45      0.60        56\n",
      "          -1       0.67      0.97      0.79        64\n",
      "          -1       0.67      0.97      0.79        64\n",
      "           1       0.93      0.45      0.60        56\n",
      "          -1       0.67      0.97      0.79        64\n",
      "           1       0.93      0.45      0.60        56\n",
      "           1       0.93      0.45      0.60        56\n",
      "           1       0.93      0.45      0.60        56\n",
      "          -1       0.67      0.97      0.79        64\n",
      "           1       0.93      0.45      0.60        56\n",
      "          -1       0.67      0.97      0.79        64\n",
      "          -1       0.67      0.97      0.79        64\n",
      "           1       0.93      0.45      0.60        56\n",
      "           1       0.93      0.45      0.60        56\n",
      "           1       0.93      0.45      0.60        56\n",
      "           1       0.93      0.45      0.60        56\n",
      "           1       0.93      0.45      0.60        56\n",
      "           1       0.93      0.45      0.60        56\n",
      "          -1       0.67      0.97      0.79        64\n",
      "           1       0.93      0.45      0.60        56\n",
      "           1       0.93      0.45      0.60        56\n",
      "          -1       0.67      0.97      0.79        64\n",
      "           1       0.93      0.45      0.60        56\n",
      "          -1       0.67      0.97      0.79        64\n",
      "          -1       0.67      0.97      0.79        64\n",
      "          -1       0.67      0.97      0.79        64\n",
      "           1       0.93      0.45      0.60        56\n",
      "          -1       0.67      0.97      0.79        64\n",
      "          -1       0.67      0.97      0.79        64\n",
      "          -1       0.67      0.97      0.79        64\n",
      "           1       0.93      0.45      0.60        56\n",
      "           1       0.93      0.45      0.60        56\n",
      "          -1       0.67      0.97      0.79        64\n",
      "           1       0.93      0.45      0.60        56\n",
      "           1       0.93      0.45      0.60        56\n",
      "          -1       0.67      0.97      0.79        64\n",
      "          -1       0.67      0.97      0.79        64\n",
      "          -1       0.67      0.97      0.79        64\n",
      "           1       0.93      0.45      0.60        56\n",
      "           1       0.93      0.45      0.60        56\n",
      "          -1       0.67      0.97      0.79        64\n",
      "          -1       0.67      0.97      0.79        64\n",
      "           1       0.93      0.45      0.60        56\n",
      "          -1       0.67      0.97      0.79        64\n",
      "          -1       0.67      0.97      0.79        64\n",
      "           1       0.93      0.45      0.60        56\n",
      "          -1       0.67      0.97      0.79        64\n",
      "          -1       0.67      0.97      0.79        64\n",
      "          -1       0.67      0.97      0.79        64\n",
      "           1       0.93      0.45      0.60        56\n",
      "           1       0.93      0.45      0.60        56\n",
      "           1       0.93      0.45      0.60        56\n",
      "           1       0.93      0.45      0.60        56\n",
      "           1       0.93      0.45      0.60        56\n",
      "          -1       0.67      0.97      0.79        64\n",
      "          -1       0.67      0.97      0.79        64\n",
      "          -1       0.67      0.97      0.79        64\n",
      "          -1       0.67      0.97      0.79        64\n",
      "          -1       0.67      0.97      0.79        64\n",
      "          -1       0.67      0.97      0.79        64\n",
      "          -1       0.67      0.97      0.79        64\n",
      "          -1       0.67      0.97      0.79        64\n",
      "\n",
      "    accuracy                           0.73     24032\n",
      "   macro avg       0.79      0.71      0.70     24032\n",
      "weighted avg       0.79      0.73      0.70     24032\n",
      "\n"
     ]
    },
    {
     "name": "stderr",
     "output_type": "stream",
     "text": [
      "C:\\Users\\Arbaaz\\anaconda3\\lib\\site-packages\\sklearn\\utils\\validation.py:70: FutureWarning: Pass labels=0      1\n",
      "1     -1\n",
      "2      1\n",
      "3     -1\n",
      "4     -1\n",
      "      ..\n",
      "395   -1\n",
      "396   -1\n",
      "397   -1\n",
      "398   -1\n",
      "399   -1\n",
      "Name: DEFECTIVE, Length: 400, dtype: int64 as keyword args. From version 1.0 (renaming of 0.25) passing these as positional arguments will result in an error\n",
      "  warnings.warn(f\"Pass {args_msg} as keyword args. From version \"\n"
     ]
    }
   ],
   "source": [
    "from sklearn.metrics import classification_report\n",
    "print(classification_report(vtest, vyfit1,train_labels))"
   ]
  },
  {
   "cell_type": "code",
   "execution_count": 29,
   "metadata": {},
   "outputs": [],
   "source": [
    "\"\"\"task 4\"\"\"\n",
    "\"\"\"test the selected parameters on the test set\"\"\"\n",
    "scaler = preprocessing.StandardScaler().fit(train_inputs)\n",
    "scaled_X = scaler.transform(train_inputs)\n",
    "scaled_tstX = scaler.transform(test_inputs)"
   ]
  },
  {
   "cell_type": "code",
   "execution_count": 30,
   "metadata": {},
   "outputs": [
    {
     "name": "stdout",
     "output_type": "stream",
     "text": [
      "Accuracy: 0.57\n"
     ]
    }
   ],
   "source": [
    "\"\"\"Fit an SVM model with the most suitable parameters obtained\n",
    "from previous previous code above.\"\"\"\n",
    "svc_final = SVC(kernel='rbf', class_weight='balanced', C=50, gamma=0.01)\n",
    "model_final = svc_final.fit(scaled_X, train_labels)\n",
    "yfit_test = model_final.predict(scaled_tstX)\n",
    "print('Accuracy:', metrics.accuracy_score(test_labels, yfit_test))"
   ]
  },
  {
   "cell_type": "code",
   "execution_count": 31,
   "metadata": {},
   "outputs": [
    {
     "data": {
      "text/plain": [
       "array([ 1, -1,  1, -1, -1, -1, -1, -1, -1,  1,  1, -1,  1,  1,  1,  1, -1,\n",
       "        1, -1,  1,  1,  1,  1, -1,  1, -1,  1,  1, -1, -1,  1,  1, -1,  1,\n",
       "        1, -1,  1,  1,  1,  1, -1, -1,  1,  1,  1,  1,  1,  1,  1, -1, -1,\n",
       "        1,  1, -1,  1, -1,  1, -1, -1,  1,  1, -1,  1,  1,  1, -1, -1, -1,\n",
       "        1, -1, -1,  1,  1,  1, -1,  1, -1, -1, -1,  1, -1, -1, -1,  1,  1,\n",
       "       -1, -1, -1, -1, -1,  1,  1, -1, -1,  1, -1,  1,  1,  1, -1],\n",
       "      dtype=int64)"
      ]
     },
     "execution_count": 31,
     "metadata": {},
     "output_type": "execute_result"
    }
   ],
   "source": [
    "test_labels.to_numpy()"
   ]
  },
  {
   "cell_type": "code",
   "execution_count": 32,
   "metadata": {},
   "outputs": [
    {
     "data": {
      "text/plain": [
       "array([-1, -1, -1, -1, -1, -1, -1, -1, -1, -1,  1, -1, -1, -1, -1, -1, -1,\n",
       "       -1, -1,  1,  1, -1, -1, -1, -1, -1,  1, -1, -1, -1,  1, -1, -1,  1,\n",
       "       -1, -1, -1,  1, -1, -1, -1, -1, -1, -1, -1,  1, -1,  1, -1, -1, -1,\n",
       "       -1, -1, -1,  1, -1,  1, -1, -1, -1, -1, -1, -1, -1, -1, -1, -1, -1,\n",
       "       -1, -1, -1, -1, -1,  1, -1,  1, -1,  1, -1, -1, -1, -1, -1, -1,  1,\n",
       "        1, -1,  1, -1,  1, -1,  1, -1, -1, -1, -1, -1, -1, -1, -1],\n",
       "      dtype=int64)"
      ]
     },
     "execution_count": 32,
     "metadata": {},
     "output_type": "execute_result"
    }
   ],
   "source": [
    "yfit_test"
   ]
  },
  {
   "cell_type": "code",
   "execution_count": 33,
   "metadata": {},
   "outputs": [
    {
     "data": {
      "text/plain": [
       "100"
      ]
     },
     "execution_count": 33,
     "metadata": {},
     "output_type": "execute_result"
    }
   ],
   "source": [
    "len(test_labels)"
   ]
  },
  {
   "cell_type": "code",
   "execution_count": 34,
   "metadata": {},
   "outputs": [
    {
     "data": {
      "text/plain": [
       "100"
      ]
     },
     "execution_count": 34,
     "metadata": {},
     "output_type": "execute_result"
    }
   ],
   "source": [
    "len(test_labels)"
   ]
  },
  {
   "cell_type": "code",
   "execution_count": 35,
   "metadata": {},
   "outputs": [
    {
     "data": {
      "text/plain": [
       "array([[42,  4],\n",
       "       [39, 15]], dtype=int64)"
      ]
     },
     "execution_count": 35,
     "metadata": {},
     "output_type": "execute_result"
    }
   ],
   "source": [
    "from sklearn.metrics import confusion_matrix\n",
    "\n",
    "confusion_matrix(test_labels, yfit_test)"
   ]
  },
  {
   "cell_type": "code",
   "execution_count": 36,
   "metadata": {},
   "outputs": [],
   "source": [
    "\"\"\"function to find false positives, those that were actually\n",
    "labeled as non-defective or -1,\n",
    " but are incorrectly predicted as defective or 1\"\"\"\n",
    "\n",
    "def false_positives(actual_val, predicted_val):\n",
    "\n",
    "    false_positives = 0\n",
    "\n",
    "    for i in range(len(actual_val)):\n",
    "        if actual_val[i] == -1 and predicted_val[i] == 1:\n",
    "            false_positives +=1\n",
    "    return false_positives"
   ]
  },
  {
   "cell_type": "code",
   "execution_count": 37,
   "metadata": {},
   "outputs": [
    {
     "data": {
      "text/plain": [
       "4"
      ]
     },
     "execution_count": 37,
     "metadata": {},
     "output_type": "execute_result"
    }
   ],
   "source": [
    "false_positives(test_labels, yfit_test)"
   ]
  },
  {
   "cell_type": "code",
   "execution_count": null,
   "metadata": {},
   "outputs": [],
   "source": []
  }
 ],
 "metadata": {
  "kernelspec": {
   "display_name": "Python 3",
   "language": "python",
   "name": "python3"
  },
  "language_info": {
   "codemirror_mode": {
    "name": "ipython",
    "version": 3
   },
   "file_extension": ".py",
   "mimetype": "text/x-python",
   "name": "python",
   "nbconvert_exporter": "python",
   "pygments_lexer": "ipython3",
   "version": "3.8.8"
  }
 },
 "nbformat": 4,
 "nbformat_minor": 2
}
